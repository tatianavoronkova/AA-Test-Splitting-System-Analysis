{
 "cells": [
  {
   "cell_type": "markdown",
   "id": "6a09f1b9",
   "metadata": {},
   "source": [
    "# Анализ релуьтатов А/А теста. Проверка корректности работы системы сплитования."
   ]
  },
  {
   "cell_type": "markdown",
   "id": "99697359",
   "metadata": {},
   "source": [
    "### Шаг 1.  \n",
    "Сформулируем нулевую и альтернативную гипотезы и зафиксируем уровень значимости:\n",
    "- H0: CTR_exp_group_2 = CTR_exp_group_3\n",
    "- H1: CTR_exp_group_2 != CTR_exp_group_3\n",
    "- alpha = 0.05"
   ]
  },
  {
   "cell_type": "markdown",
   "id": "b8e3082b",
   "metadata": {},
   "source": [
    "### Шаг 2.   \n",
    "Подключимся к БД, выгрузим в датафрейм пользователей за период проведения А/А теста и рассчитаем ключевую метрику CTR для каждого пользователя."
   ]
  },
  {
   "cell_type": "code",
   "execution_count": 1,
   "id": "4bef59c7",
   "metadata": {},
   "outputs": [],
   "source": [
    "import pandas as pd\n",
    "import pandahouse as ph\n",
    "import seaborn as sns\n",
    "import scipy.stats as stats\n",
    "import os"
   ]
  },
  {
   "cell_type": "code",
   "execution_count": 2,
   "id": "de4b961d",
   "metadata": {},
   "outputs": [],
   "source": [
    "# подключаемся к схеме данных ленты новостей\n",
    "connection = {\n",
    "    'host': os.environ.get('HOST'),\n",
    "    'database': os.environ.get('DATABASE'),\n",
    "    'user': os.environ.get('USER_NAME'),\n",
    "    'password': os.environ.get('PASSWORD')\n",
    "}\n",
    "\n",
    "# Рассчитаем CTR для каждого пользователя и сгруппируем по пользователяю и группе\n",
    "q = \"\"\"\n",
    "SELECT exp_group, \n",
    "    user_id,\n",
    "    sum(action = 'like') as likes,\n",
    "    sum(action = 'view') as views,\n",
    "    likes/views as ctr\n",
    "FROM {db}.feed_actions \n",
    "WHERE toDate(time) between '2024-04-26' and '2024-05-02'\n",
    "    and exp_group in (2,3)\n",
    "GROUP BY exp_group, user_id\n",
    "\"\"\"\n",
    "\n",
    "ctr_df = ph.read_clickhouse(q, connection=connection)"
   ]
  },
  {
   "cell_type": "code",
   "execution_count": 3,
   "id": "728ffc20",
   "metadata": {},
   "outputs": [
    {
     "data": {
      "text/html": [
       "<div>\n",
       "<style scoped>\n",
       "    .dataframe tbody tr th:only-of-type {\n",
       "        vertical-align: middle;\n",
       "    }\n",
       "\n",
       "    .dataframe tbody tr th {\n",
       "        vertical-align: top;\n",
       "    }\n",
       "\n",
       "    .dataframe thead th {\n",
       "        text-align: right;\n",
       "    }\n",
       "</style>\n",
       "<table border=\"1\" class=\"dataframe\">\n",
       "  <thead>\n",
       "    <tr style=\"text-align: right;\">\n",
       "      <th></th>\n",
       "      <th>exp_group</th>\n",
       "      <th>user_id</th>\n",
       "      <th>likes</th>\n",
       "      <th>views</th>\n",
       "      <th>ctr</th>\n",
       "    </tr>\n",
       "  </thead>\n",
       "  <tbody>\n",
       "    <tr>\n",
       "      <th>0</th>\n",
       "      <td>3</td>\n",
       "      <td>115383</td>\n",
       "      <td>38</td>\n",
       "      <td>248</td>\n",
       "      <td>0.153226</td>\n",
       "    </tr>\n",
       "    <tr>\n",
       "      <th>1</th>\n",
       "      <td>3</td>\n",
       "      <td>10326</td>\n",
       "      <td>24</td>\n",
       "      <td>132</td>\n",
       "      <td>0.181818</td>\n",
       "    </tr>\n",
       "    <tr>\n",
       "      <th>2</th>\n",
       "      <td>3</td>\n",
       "      <td>123580</td>\n",
       "      <td>25</td>\n",
       "      <td>122</td>\n",
       "      <td>0.204918</td>\n",
       "    </tr>\n",
       "    <tr>\n",
       "      <th>3</th>\n",
       "      <td>2</td>\n",
       "      <td>131473</td>\n",
       "      <td>19</td>\n",
       "      <td>98</td>\n",
       "      <td>0.193878</td>\n",
       "    </tr>\n",
       "    <tr>\n",
       "      <th>4</th>\n",
       "      <td>2</td>\n",
       "      <td>23985</td>\n",
       "      <td>12</td>\n",
       "      <td>44</td>\n",
       "      <td>0.272727</td>\n",
       "    </tr>\n",
       "  </tbody>\n",
       "</table>\n",
       "</div>"
      ],
      "text/plain": [
       "   exp_group  user_id  likes  views       ctr\n",
       "0          3   115383     38    248  0.153226\n",
       "1          3    10326     24    132  0.181818\n",
       "2          3   123580     25    122  0.204918\n",
       "3          2   131473     19     98  0.193878\n",
       "4          2    23985     12     44  0.272727"
      ]
     },
     "execution_count": 3,
     "metadata": {},
     "output_type": "execute_result"
    }
   ],
   "source": [
    "# Посмотрим, что получилось\n",
    "ctr_df.head()"
   ]
  },
  {
   "cell_type": "code",
   "execution_count": 4,
   "id": "c514c53c",
   "metadata": {},
   "outputs": [
    {
     "data": {
      "text/html": [
       "<div>\n",
       "<style scoped>\n",
       "    .dataframe tbody tr th:only-of-type {\n",
       "        vertical-align: middle;\n",
       "    }\n",
       "\n",
       "    .dataframe tbody tr th {\n",
       "        vertical-align: top;\n",
       "    }\n",
       "\n",
       "    .dataframe thead th {\n",
       "        text-align: right;\n",
       "    }\n",
       "</style>\n",
       "<table border=\"1\" class=\"dataframe\">\n",
       "  <thead>\n",
       "    <tr style=\"text-align: right;\">\n",
       "      <th></th>\n",
       "      <th>user_id</th>\n",
       "      <th>likes</th>\n",
       "      <th>views</th>\n",
       "      <th>ctr</th>\n",
       "    </tr>\n",
       "    <tr>\n",
       "      <th>exp_group</th>\n",
       "      <th></th>\n",
       "      <th></th>\n",
       "      <th></th>\n",
       "      <th></th>\n",
       "    </tr>\n",
       "  </thead>\n",
       "  <tbody>\n",
       "    <tr>\n",
       "      <th>2</th>\n",
       "      <td>8362</td>\n",
       "      <td>8362</td>\n",
       "      <td>8362</td>\n",
       "      <td>8362</td>\n",
       "    </tr>\n",
       "    <tr>\n",
       "      <th>3</th>\n",
       "      <td>8425</td>\n",
       "      <td>8425</td>\n",
       "      <td>8425</td>\n",
       "      <td>8425</td>\n",
       "    </tr>\n",
       "  </tbody>\n",
       "</table>\n",
       "</div>"
      ],
      "text/plain": [
       "           user_id  likes  views   ctr\n",
       "exp_group                             \n",
       "2             8362   8362   8362  8362\n",
       "3             8425   8425   8425  8425"
      ]
     },
     "execution_count": 4,
     "metadata": {},
     "output_type": "execute_result"
    }
   ],
   "source": [
    "# Проверим кол-во записей в каждой группе\n",
    "ctr_df.groupby('exp_group').count()"
   ]
  },
  {
   "cell_type": "markdown",
   "id": "697d3ed2",
   "metadata": {},
   "source": [
    "### Шаг 3. \n",
    "Проведем симуляцию 10 000 А/А тестов. На каждой итерации сформируем подвыборки без повторения в 500 юзеров из 2 и 3 экспериментальной группы. Проведем сравнение этих подвыборок t-testом."
   ]
  },
  {
   "cell_type": "code",
   "execution_count": 5,
   "id": "87316e3f",
   "metadata": {},
   "outputs": [],
   "source": [
    "# Определяем функцию, которая на вход принимает 2 группы, генерирует подвыборки без повторений и возвращает p-value\n",
    "def p_values(df1, df2, sample_length):\n",
    "    sample_2 = df1.sample(sample_length, replace=False)\n",
    "    sample_3 = df2.sample(sample_length, replace=False)\n",
    "    return stats.ttest_ind(sample_2, sample_3, equal_var=False)[1]"
   ]
  },
  {
   "cell_type": "code",
   "execution_count": 6,
   "id": "f5b7b4f7",
   "metadata": {},
   "outputs": [],
   "source": [
    "# Составляем список p-value из 10 000 симуляций\n",
    "n = 10000\n",
    "sample_len = 500\n",
    "pv = [p_values(ctr_df.query(\"exp_group == 2\").ctr, ctr_df.query(\"exp_group == 3\").ctr, sample_len) for _ in range(n)]"
   ]
  },
  {
   "cell_type": "markdown",
   "id": "67fadf90",
   "metadata": {},
   "source": [
    "### Шаг 4.   \n",
    "Построим гистограмму распределения получившихся 10000 p-values."
   ]
  },
  {
   "cell_type": "code",
   "execution_count": 8,
   "id": "a0cf346b",
   "metadata": {},
   "outputs": [
    {
     "data": {
      "text/plain": [
       "<Axes: ylabel='Count'>"
      ]
     },
     "execution_count": 8,
     "metadata": {},
     "output_type": "execute_result"
    },
    {
     "data": {
      "image/png": "[encoded data removed]",
      "text/plain": [
       "<Figure size 432x288 with 1 Axes>"
      ]
     },
     "metadata": {
      "needs_background": "light"
     },
     "output_type": "display_data"
    }
   ],
   "source": [
    "#sns.set(rc={'figure.figsize':(11.7,8.27)})\n",
    "sns.histplot(pv)"
   ]
  },
  {
   "cell_type": "markdown",
   "id": "cf70f713",
   "metadata": {},
   "source": [
    "### Шаг 5.   \n",
    "Посчитаем, какой процент p-value оказался меньше или равен уровню альфа = 0.05"
   ]
  },
  {
   "cell_type": "code",
   "execution_count": 13,
   "id": "65d48ed2",
   "metadata": {},
   "outputs": [
    {
     "name": "stdout",
     "output_type": "stream",
     "text": [
      "4.27%\n"
     ]
    }
   ],
   "source": [
    "pv_percent = list(filter(lambda x: x<=0.05, pv))\n",
    "print(round(len(pv_percent)/len(pv)*100,2), '%', sep='')"
   ]
  },
  {
   "cell_type": "markdown",
   "id": "ce449170",
   "metadata": {},
   "source": [
    "### Вывод:\n",
    "    "
   ]
  },
  {
   "cell_type": "markdown",
   "id": "30228eab",
   "metadata": {},
   "source": [
    "Распределение p-values получилось близкое к равномерному.  \n",
    "Значения p-value <= 0.05 встречается менее, чем в 5% случаев.  \n",
    "Это значит, что в процессе проведения экспериментов проблем нет.  \n",
    "Проведенный А/А тест говорит о том, что система сплитования работает корректно."
   ]
  },
  {
   "cell_type": "code",
   "execution_count": null,
   "id": "a8d13041",
   "metadata": {},
   "outputs": [],
   "source": []
  }
 ],
 "metadata": {
  "kernelspec": {
   "display_name": "Python 3 (ipykernel)",
   "language": "python",
   "name": "python3"
  },
  "language_info": {
   "codemirror_mode": {
    "name": "ipython",
    "version": 3
   },
   "file_extension": ".py",
   "mimetype": "text/x-python",
   "name": "python",
   "nbconvert_exporter": "python",
   "pygments_lexer": "ipython3",
   "version": "3.8.19"
  }
 },
 "nbformat": 4,
 "nbformat_minor": 5
}
